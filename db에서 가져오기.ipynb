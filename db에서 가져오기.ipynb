{
 "cells": [
  {
   "cell_type": "code",
   "execution_count": 1,
   "source": [
    "import json\r\n",
    "import pandas as pd\r\n",
    "import numpy as np\r\n",
    "import matplotlib.pyplot as plt\r\n",
    "import matplotlib as mpl\r\n",
    "import seaborn as sns\r\n",
    "# minus 표시 \r\n",
    "# 한글 쓸때 필수다\r\n",
    "mpl.rcParams['axes.unicode_minus'] = False\r\n",
    "plt.rc('font', family='Malgun Gothic')"
   ],
   "outputs": [],
   "metadata": {}
  },
  {
   "cell_type": "markdown",
   "source": [
    "- 게시판별 숫자 표 및 그래프\r\n",
    "- 1등 작성자\r\n",
    "- 가장 많은 날짜\r\n",
    "- 시간대별 00:00 제외 가장 많은 글\r\n",
    "- 가장 많이 읽은 글\r\n",
    "- 추천수, 반대수별\r\n",
    "- 제목에 가장 많이 들어간 내용 (어렵겠다이거는)"
   ],
   "metadata": {}
  },
  {
   "cell_type": "code",
   "execution_count": null,
   "source": [
    "sql ='''\r\n",
    "    SELECT DATE_FORMAT(s.sdate,'%Y-%m') AS 월, \r\n",
    "     SUM(pprice*sunit) AS 매출, \r\n",
    "     SUM(pprice*sunit-pcost*sunit) AS 이익\r\n",
    "    FROM products AS p\r\n",
    "    JOIN sales AS s\r\n",
    "    WHERE p.pid=s.spid\r\n",
    "    GROUP BY 월\r\n",
    "    order by 월\r\n",
    "'''"
   ],
   "outputs": [],
   "metadata": {}
  }
 ],
 "metadata": {
  "orig_nbformat": 4,
  "language_info": {
   "name": "python",
   "version": "3.8.10",
   "mimetype": "text/x-python",
   "codemirror_mode": {
    "name": "ipython",
    "version": 3
   },
   "pygments_lexer": "ipython3",
   "nbconvert_exporter": "python",
   "file_extension": ".py"
  },
  "kernelspec": {
   "name": "python3",
   "display_name": "Python 3.8.10 64-bit ('base': conda)"
  },
  "interpreter": {
   "hash": "345fc451c7e0336b9390ad1fad588039702f89ec6d37597eff879e480e25ffdb"
  }
 },
 "nbformat": 4,
 "nbformat_minor": 2
}