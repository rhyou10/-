{
 "cells": [
  {
   "cell_type": "code",
   "execution_count": 95,
   "source": [
    "import numpy as np\r\n",
    "import pandas as pd"
   ],
   "outputs": [],
   "metadata": {}
  },
  {
   "cell_type": "markdown",
   "source": [
    "## 교통사고 데이터 서울만 정제"
   ],
   "metadata": {}
  },
  {
   "cell_type": "code",
   "execution_count": 30,
   "source": [
    "accident = pd.read_excel('data/cctv/교통사고.xls', skiprows=[1,2])"
   ],
   "outputs": [],
   "metadata": {}
  },
  {
   "cell_type": "code",
   "execution_count": 31,
   "source": [
    "accident.head()"
   ],
   "outputs": [
    {
     "output_type": "execute_result",
     "data": {
      "text/html": [
       "<div>\n",
       "<style scoped>\n",
       "    .dataframe tbody tr th:only-of-type {\n",
       "        vertical-align: middle;\n",
       "    }\n",
       "\n",
       "    .dataframe tbody tr th {\n",
       "        vertical-align: top;\n",
       "    }\n",
       "\n",
       "    .dataframe thead th {\n",
       "        text-align: right;\n",
       "    }\n",
       "</style>\n",
       "<table border=\"1\" class=\"dataframe\">\n",
       "  <thead>\n",
       "    <tr style=\"text-align: right;\">\n",
       "      <th></th>\n",
       "      <th>시군구별 교통사고(기초)</th>\n",
       "      <th>Unnamed: 1</th>\n",
       "      <th>Unnamed: 2</th>\n",
       "      <th>Unnamed: 3</th>\n",
       "      <th>Unnamed: 4</th>\n",
       "      <th>Unnamed: 5</th>\n",
       "      <th>Unnamed: 6</th>\n",
       "    </tr>\n",
       "  </thead>\n",
       "  <tbody>\n",
       "    <tr>\n",
       "      <th>0</th>\n",
       "      <td>시도</td>\n",
       "      <td>시군구</td>\n",
       "      <td>사고건수</td>\n",
       "      <td>사망자수</td>\n",
       "      <td>부상자수</td>\n",
       "      <td>(중상자수)</td>\n",
       "      <td>(경상자수)</td>\n",
       "    </tr>\n",
       "    <tr>\n",
       "      <th>1</th>\n",
       "      <td>합계</td>\n",
       "      <td>합계</td>\n",
       "      <td>209654</td>\n",
       "      <td>3081</td>\n",
       "      <td>306194</td>\n",
       "      <td>60564</td>\n",
       "      <td>226036</td>\n",
       "    </tr>\n",
       "    <tr>\n",
       "      <th>2</th>\n",
       "      <td>서울</td>\n",
       "      <td>합계</td>\n",
       "      <td>35227</td>\n",
       "      <td>219</td>\n",
       "      <td>47513</td>\n",
       "      <td>8797</td>\n",
       "      <td>34861</td>\n",
       "    </tr>\n",
       "    <tr>\n",
       "      <th>3</th>\n",
       "      <td>서울</td>\n",
       "      <td>종로구</td>\n",
       "      <td>903</td>\n",
       "      <td>5</td>\n",
       "      <td>1224</td>\n",
       "      <td>237</td>\n",
       "      <td>833</td>\n",
       "    </tr>\n",
       "    <tr>\n",
       "      <th>4</th>\n",
       "      <td>서울</td>\n",
       "      <td>중구</td>\n",
       "      <td>955</td>\n",
       "      <td>6</td>\n",
       "      <td>1248</td>\n",
       "      <td>300</td>\n",
       "      <td>814</td>\n",
       "    </tr>\n",
       "  </tbody>\n",
       "</table>\n",
       "</div>"
      ],
      "text/plain": [
       "  시군구별 교통사고(기초) Unnamed: 1 Unnamed: 2 Unnamed: 3 Unnamed: 4 Unnamed: 5  \\\n",
       "0            시도        시군구       사고건수       사망자수       부상자수     (중상자수)   \n",
       "1            합계         합계     209654       3081     306194      60564   \n",
       "2            서울         합계      35227        219      47513       8797   \n",
       "3            서울        종로구        903          5       1224        237   \n",
       "4            서울         중구        955          6       1248        300   \n",
       "\n",
       "  Unnamed: 6  \n",
       "0     (경상자수)  \n",
       "1     226036  \n",
       "2      34861  \n",
       "3        833  \n",
       "4        814  "
      ]
     },
     "metadata": {},
     "execution_count": 31
    }
   ],
   "metadata": {}
  },
  {
   "cell_type": "code",
   "execution_count": 32,
   "source": [
    "accident = accident[accident['시군구별 교통사고(기초)']=='서울']"
   ],
   "outputs": [],
   "metadata": {}
  },
  {
   "cell_type": "code",
   "execution_count": 39,
   "source": [
    "accident.columns = ['기초', '시군구', '사건건수', '사망자수', '부상자수', '중상자수', '경상자수']\r\n",
    "accident.head()\r\n",
    "accident.drop(columns='기초', inplace=True)"
   ],
   "outputs": [],
   "metadata": {}
  },
  {
   "cell_type": "code",
   "execution_count": 49,
   "source": [
    "accident.drop(index=2, inplace=True)"
   ],
   "outputs": [],
   "metadata": {}
  },
  {
   "cell_type": "code",
   "execution_count": 50,
   "source": [
    "accident.head()"
   ],
   "outputs": [
    {
     "output_type": "execute_result",
     "data": {
      "text/html": [
       "<div>\n",
       "<style scoped>\n",
       "    .dataframe tbody tr th:only-of-type {\n",
       "        vertical-align: middle;\n",
       "    }\n",
       "\n",
       "    .dataframe tbody tr th {\n",
       "        vertical-align: top;\n",
       "    }\n",
       "\n",
       "    .dataframe thead th {\n",
       "        text-align: right;\n",
       "    }\n",
       "</style>\n",
       "<table border=\"1\" class=\"dataframe\">\n",
       "  <thead>\n",
       "    <tr style=\"text-align: right;\">\n",
       "      <th></th>\n",
       "      <th>시군구</th>\n",
       "      <th>사건건수</th>\n",
       "      <th>사망자수</th>\n",
       "      <th>부상자수</th>\n",
       "      <th>중상자수</th>\n",
       "      <th>경상자수</th>\n",
       "    </tr>\n",
       "  </thead>\n",
       "  <tbody>\n",
       "    <tr>\n",
       "      <th>3</th>\n",
       "      <td>종로구</td>\n",
       "      <td>903</td>\n",
       "      <td>5</td>\n",
       "      <td>1224</td>\n",
       "      <td>237</td>\n",
       "      <td>833</td>\n",
       "    </tr>\n",
       "    <tr>\n",
       "      <th>4</th>\n",
       "      <td>중구</td>\n",
       "      <td>955</td>\n",
       "      <td>6</td>\n",
       "      <td>1248</td>\n",
       "      <td>300</td>\n",
       "      <td>814</td>\n",
       "    </tr>\n",
       "    <tr>\n",
       "      <th>5</th>\n",
       "      <td>용산구</td>\n",
       "      <td>890</td>\n",
       "      <td>12</td>\n",
       "      <td>1178</td>\n",
       "      <td>246</td>\n",
       "      <td>900</td>\n",
       "    </tr>\n",
       "    <tr>\n",
       "      <th>6</th>\n",
       "      <td>성동구</td>\n",
       "      <td>1119</td>\n",
       "      <td>9</td>\n",
       "      <td>1481</td>\n",
       "      <td>322</td>\n",
       "      <td>1071</td>\n",
       "    </tr>\n",
       "    <tr>\n",
       "      <th>7</th>\n",
       "      <td>동대문구</td>\n",
       "      <td>1448</td>\n",
       "      <td>10</td>\n",
       "      <td>1845</td>\n",
       "      <td>432</td>\n",
       "      <td>1280</td>\n",
       "    </tr>\n",
       "  </tbody>\n",
       "</table>\n",
       "</div>"
      ],
      "text/plain": [
       "    시군구  사건건수 사망자수  부상자수 중상자수  경상자수\n",
       "3   종로구   903    5  1224  237   833\n",
       "4    중구   955    6  1248  300   814\n",
       "5   용산구   890   12  1178  246   900\n",
       "6   성동구  1119    9  1481  322  1071\n",
       "7  동대문구  1448   10  1845  432  1280"
      ]
     },
     "metadata": {},
     "execution_count": 50
    }
   ],
   "metadata": {}
  },
  {
   "cell_type": "markdown",
   "source": [
    "## cctv"
   ],
   "metadata": {}
  },
  {
   "cell_type": "code",
   "execution_count": 72,
   "source": [
    "cctv = pd.read_csv('data/cctv/서울시CCTV설치운영현황(자치구)_년도별_210731기준.csv', encoding='euc-kr',skiprows=1)"
   ],
   "outputs": [],
   "metadata": {}
  },
  {
   "cell_type": "code",
   "execution_count": 73,
   "source": [
    "cctv.구분[2] = '중구'\r\n",
    "cctv.drop(index=0, inplace=True)"
   ],
   "outputs": [],
   "metadata": {}
  },
  {
   "cell_type": "code",
   "execution_count": 74,
   "source": [
    "cctv = cctv[['구분', '총계']]\r\n",
    "cctv.columns = ['시군구', 'cctv총계']"
   ],
   "outputs": [],
   "metadata": {}
  },
  {
   "cell_type": "code",
   "execution_count": 82,
   "source": [
    "#cctv['cctv총계'] = cctv.cctv총계.str.replace(',','')\r\n",
    "cctv['cctv총계'] = cctv['cctv총계'].apply(lambda x: int(x.replace(',',''))) # int 형은 lambda 사용하는게 편하다"
   ],
   "outputs": [],
   "metadata": {}
  },
  {
   "cell_type": "code",
   "execution_count": 84,
   "source": [
    "cctv.head()"
   ],
   "outputs": [
    {
     "output_type": "execute_result",
     "data": {
      "text/html": [
       "<div>\n",
       "<style scoped>\n",
       "    .dataframe tbody tr th:only-of-type {\n",
       "        vertical-align: middle;\n",
       "    }\n",
       "\n",
       "    .dataframe tbody tr th {\n",
       "        vertical-align: top;\n",
       "    }\n",
       "\n",
       "    .dataframe thead th {\n",
       "        text-align: right;\n",
       "    }\n",
       "</style>\n",
       "<table border=\"1\" class=\"dataframe\">\n",
       "  <thead>\n",
       "    <tr style=\"text-align: right;\">\n",
       "      <th></th>\n",
       "      <th>시군구</th>\n",
       "      <th>cctv총계</th>\n",
       "    </tr>\n",
       "  </thead>\n",
       "  <tbody>\n",
       "    <tr>\n",
       "      <th>1</th>\n",
       "      <td>종로구</td>\n",
       "      <td>1772</td>\n",
       "    </tr>\n",
       "    <tr>\n",
       "      <th>2</th>\n",
       "      <td>중구</td>\n",
       "      <td>2333</td>\n",
       "    </tr>\n",
       "    <tr>\n",
       "      <th>3</th>\n",
       "      <td>용산구</td>\n",
       "      <td>2383</td>\n",
       "    </tr>\n",
       "    <tr>\n",
       "      <th>4</th>\n",
       "      <td>성동구</td>\n",
       "      <td>3602</td>\n",
       "    </tr>\n",
       "    <tr>\n",
       "      <th>5</th>\n",
       "      <td>광진구</td>\n",
       "      <td>2588</td>\n",
       "    </tr>\n",
       "  </tbody>\n",
       "</table>\n",
       "</div>"
      ],
      "text/plain": [
       "   시군구  cctv총계\n",
       "1  종로구    1772\n",
       "2   중구    2333\n",
       "3  용산구    2383\n",
       "4  성동구    3602\n",
       "5  광진구    2588"
      ]
     },
     "metadata": {},
     "execution_count": 84
    }
   ],
   "metadata": {}
  },
  {
   "cell_type": "code",
   "execution_count": 91,
   "source": [
    "df = pd.merge(cctv, accident, on='시군구')"
   ],
   "outputs": [],
   "metadata": {}
  },
  {
   "cell_type": "markdown",
   "source": [
    "## 분석"
   ],
   "metadata": {}
  },
  {
   "cell_type": "code",
   "execution_count": 92,
   "source": [
    "df.head()"
   ],
   "outputs": [
    {
     "output_type": "execute_result",
     "data": {
      "text/html": [
       "<div>\n",
       "<style scoped>\n",
       "    .dataframe tbody tr th:only-of-type {\n",
       "        vertical-align: middle;\n",
       "    }\n",
       "\n",
       "    .dataframe tbody tr th {\n",
       "        vertical-align: top;\n",
       "    }\n",
       "\n",
       "    .dataframe thead th {\n",
       "        text-align: right;\n",
       "    }\n",
       "</style>\n",
       "<table border=\"1\" class=\"dataframe\">\n",
       "  <thead>\n",
       "    <tr style=\"text-align: right;\">\n",
       "      <th></th>\n",
       "      <th>시군구</th>\n",
       "      <th>cctv총계</th>\n",
       "      <th>사건건수</th>\n",
       "      <th>사망자수</th>\n",
       "      <th>부상자수</th>\n",
       "      <th>중상자수</th>\n",
       "      <th>경상자수</th>\n",
       "    </tr>\n",
       "  </thead>\n",
       "  <tbody>\n",
       "    <tr>\n",
       "      <th>0</th>\n",
       "      <td>종로구</td>\n",
       "      <td>1772</td>\n",
       "      <td>903</td>\n",
       "      <td>5</td>\n",
       "      <td>1224</td>\n",
       "      <td>237</td>\n",
       "      <td>833</td>\n",
       "    </tr>\n",
       "    <tr>\n",
       "      <th>1</th>\n",
       "      <td>중구</td>\n",
       "      <td>2333</td>\n",
       "      <td>955</td>\n",
       "      <td>6</td>\n",
       "      <td>1248</td>\n",
       "      <td>300</td>\n",
       "      <td>814</td>\n",
       "    </tr>\n",
       "    <tr>\n",
       "      <th>2</th>\n",
       "      <td>용산구</td>\n",
       "      <td>2383</td>\n",
       "      <td>890</td>\n",
       "      <td>12</td>\n",
       "      <td>1178</td>\n",
       "      <td>246</td>\n",
       "      <td>900</td>\n",
       "    </tr>\n",
       "    <tr>\n",
       "      <th>3</th>\n",
       "      <td>성동구</td>\n",
       "      <td>3602</td>\n",
       "      <td>1119</td>\n",
       "      <td>9</td>\n",
       "      <td>1481</td>\n",
       "      <td>322</td>\n",
       "      <td>1071</td>\n",
       "    </tr>\n",
       "    <tr>\n",
       "      <th>4</th>\n",
       "      <td>광진구</td>\n",
       "      <td>2588</td>\n",
       "      <td>869</td>\n",
       "      <td>4</td>\n",
       "      <td>1145</td>\n",
       "      <td>230</td>\n",
       "      <td>857</td>\n",
       "    </tr>\n",
       "  </tbody>\n",
       "</table>\n",
       "</div>"
      ],
      "text/plain": [
       "   시군구  cctv총계  사건건수 사망자수  부상자수 중상자수  경상자수\n",
       "0  종로구    1772   903    5  1224  237   833\n",
       "1   중구    2333   955    6  1248  300   814\n",
       "2  용산구    2383   890   12  1178  246   900\n",
       "3  성동구    3602  1119    9  1481  322  1071\n",
       "4  광진구    2588   869    4  1145  230   857"
      ]
     },
     "metadata": {},
     "execution_count": 92
    }
   ],
   "metadata": {}
  },
  {
   "cell_type": "markdown",
   "source": [
    "### 상관관계"
   ],
   "metadata": {}
  },
  {
   "cell_type": "code",
   "execution_count": 93,
   "source": [
    "df.set_index('시군구',inplace=True)"
   ],
   "outputs": [],
   "metadata": {}
  },
  {
   "cell_type": "code",
   "execution_count": 103,
   "source": [
    "for column in df.columns[0:]:\r\n",
    "    df[column] = df[column].apply(lambda x: int(x))"
   ],
   "outputs": [],
   "metadata": {}
  },
  {
   "cell_type": "code",
   "execution_count": 104,
   "source": [
    "df"
   ],
   "outputs": [
    {
     "output_type": "execute_result",
     "data": {
      "text/html": [
       "<div>\n",
       "<style scoped>\n",
       "    .dataframe tbody tr th:only-of-type {\n",
       "        vertical-align: middle;\n",
       "    }\n",
       "\n",
       "    .dataframe tbody tr th {\n",
       "        vertical-align: top;\n",
       "    }\n",
       "\n",
       "    .dataframe thead th {\n",
       "        text-align: right;\n",
       "    }\n",
       "</style>\n",
       "<table border=\"1\" class=\"dataframe\">\n",
       "  <thead>\n",
       "    <tr style=\"text-align: right;\">\n",
       "      <th></th>\n",
       "      <th>cctv총계</th>\n",
       "      <th>사건건수</th>\n",
       "      <th>사망자수</th>\n",
       "      <th>부상자수</th>\n",
       "      <th>중상자수</th>\n",
       "      <th>경상자수</th>\n",
       "    </tr>\n",
       "    <tr>\n",
       "      <th>시군구</th>\n",
       "      <th></th>\n",
       "      <th></th>\n",
       "      <th></th>\n",
       "      <th></th>\n",
       "      <th></th>\n",
       "      <th></th>\n",
       "    </tr>\n",
       "  </thead>\n",
       "  <tbody>\n",
       "    <tr>\n",
       "      <th>종로구</th>\n",
       "      <td>1772</td>\n",
       "      <td>903</td>\n",
       "      <td>5</td>\n",
       "      <td>1224</td>\n",
       "      <td>237</td>\n",
       "      <td>833</td>\n",
       "    </tr>\n",
       "    <tr>\n",
       "      <th>중구</th>\n",
       "      <td>2333</td>\n",
       "      <td>955</td>\n",
       "      <td>6</td>\n",
       "      <td>1248</td>\n",
       "      <td>300</td>\n",
       "      <td>814</td>\n",
       "    </tr>\n",
       "    <tr>\n",
       "      <th>용산구</th>\n",
       "      <td>2383</td>\n",
       "      <td>890</td>\n",
       "      <td>12</td>\n",
       "      <td>1178</td>\n",
       "      <td>246</td>\n",
       "      <td>900</td>\n",
       "    </tr>\n",
       "    <tr>\n",
       "      <th>성동구</th>\n",
       "      <td>3602</td>\n",
       "      <td>1119</td>\n",
       "      <td>9</td>\n",
       "      <td>1481</td>\n",
       "      <td>322</td>\n",
       "      <td>1071</td>\n",
       "    </tr>\n",
       "    <tr>\n",
       "      <th>광진구</th>\n",
       "      <td>2588</td>\n",
       "      <td>869</td>\n",
       "      <td>4</td>\n",
       "      <td>1145</td>\n",
       "      <td>230</td>\n",
       "      <td>857</td>\n",
       "    </tr>\n",
       "    <tr>\n",
       "      <th>동대문구</th>\n",
       "      <td>2497</td>\n",
       "      <td>1448</td>\n",
       "      <td>10</td>\n",
       "      <td>1845</td>\n",
       "      <td>432</td>\n",
       "      <td>1280</td>\n",
       "    </tr>\n",
       "    <tr>\n",
       "      <th>중랑구</th>\n",
       "      <td>3296</td>\n",
       "      <td>1447</td>\n",
       "      <td>4</td>\n",
       "      <td>1952</td>\n",
       "      <td>381</td>\n",
       "      <td>1345</td>\n",
       "    </tr>\n",
       "    <tr>\n",
       "      <th>성북구</th>\n",
       "      <td>3958</td>\n",
       "      <td>1275</td>\n",
       "      <td>7</td>\n",
       "      <td>1622</td>\n",
       "      <td>323</td>\n",
       "      <td>1195</td>\n",
       "    </tr>\n",
       "    <tr>\n",
       "      <th>강북구</th>\n",
       "      <td>2462</td>\n",
       "      <td>1087</td>\n",
       "      <td>3</td>\n",
       "      <td>1420</td>\n",
       "      <td>226</td>\n",
       "      <td>1124</td>\n",
       "    </tr>\n",
       "    <tr>\n",
       "      <th>도봉구</th>\n",
       "      <td>1629</td>\n",
       "      <td>741</td>\n",
       "      <td>7</td>\n",
       "      <td>990</td>\n",
       "      <td>234</td>\n",
       "      <td>652</td>\n",
       "    </tr>\n",
       "    <tr>\n",
       "      <th>노원구</th>\n",
       "      <td>2415</td>\n",
       "      <td>1462</td>\n",
       "      <td>5</td>\n",
       "      <td>2016</td>\n",
       "      <td>372</td>\n",
       "      <td>1488</td>\n",
       "    </tr>\n",
       "    <tr>\n",
       "      <th>은평구</th>\n",
       "      <td>3791</td>\n",
       "      <td>953</td>\n",
       "      <td>14</td>\n",
       "      <td>1415</td>\n",
       "      <td>275</td>\n",
       "      <td>1007</td>\n",
       "    </tr>\n",
       "    <tr>\n",
       "      <th>서대문구</th>\n",
       "      <td>2940</td>\n",
       "      <td>928</td>\n",
       "      <td>6</td>\n",
       "      <td>1256</td>\n",
       "      <td>222</td>\n",
       "      <td>810</td>\n",
       "    </tr>\n",
       "    <tr>\n",
       "      <th>마포구</th>\n",
       "      <td>2421</td>\n",
       "      <td>1272</td>\n",
       "      <td>13</td>\n",
       "      <td>1754</td>\n",
       "      <td>301</td>\n",
       "      <td>1291</td>\n",
       "    </tr>\n",
       "    <tr>\n",
       "      <th>양천구</th>\n",
       "      <td>3312</td>\n",
       "      <td>1344</td>\n",
       "      <td>7</td>\n",
       "      <td>1829</td>\n",
       "      <td>323</td>\n",
       "      <td>1386</td>\n",
       "    </tr>\n",
       "    <tr>\n",
       "      <th>강서구</th>\n",
       "      <td>2560</td>\n",
       "      <td>1575</td>\n",
       "      <td>17</td>\n",
       "      <td>2131</td>\n",
       "      <td>448</td>\n",
       "      <td>1568</td>\n",
       "    </tr>\n",
       "    <tr>\n",
       "      <th>구로구</th>\n",
       "      <td>4075</td>\n",
       "      <td>1325</td>\n",
       "      <td>10</td>\n",
       "      <td>1810</td>\n",
       "      <td>353</td>\n",
       "      <td>1357</td>\n",
       "    </tr>\n",
       "    <tr>\n",
       "      <th>금천구</th>\n",
       "      <td>2374</td>\n",
       "      <td>810</td>\n",
       "      <td>6</td>\n",
       "      <td>1084</td>\n",
       "      <td>210</td>\n",
       "      <td>799</td>\n",
       "    </tr>\n",
       "    <tr>\n",
       "      <th>영등포구</th>\n",
       "      <td>3778</td>\n",
       "      <td>2208</td>\n",
       "      <td>7</td>\n",
       "      <td>3102</td>\n",
       "      <td>484</td>\n",
       "      <td>2297</td>\n",
       "    </tr>\n",
       "    <tr>\n",
       "      <th>동작구</th>\n",
       "      <td>2297</td>\n",
       "      <td>1307</td>\n",
       "      <td>10</td>\n",
       "      <td>1819</td>\n",
       "      <td>304</td>\n",
       "      <td>1313</td>\n",
       "    </tr>\n",
       "    <tr>\n",
       "      <th>관악구</th>\n",
       "      <td>4942</td>\n",
       "      <td>1444</td>\n",
       "      <td>13</td>\n",
       "      <td>1819</td>\n",
       "      <td>391</td>\n",
       "      <td>1376</td>\n",
       "    </tr>\n",
       "    <tr>\n",
       "      <th>서초구</th>\n",
       "      <td>3704</td>\n",
       "      <td>2250</td>\n",
       "      <td>9</td>\n",
       "      <td>3075</td>\n",
       "      <td>441</td>\n",
       "      <td>2397</td>\n",
       "    </tr>\n",
       "    <tr>\n",
       "      <th>강남구</th>\n",
       "      <td>6502</td>\n",
       "      <td>3752</td>\n",
       "      <td>17</td>\n",
       "      <td>5189</td>\n",
       "      <td>771</td>\n",
       "      <td>4004</td>\n",
       "    </tr>\n",
       "    <tr>\n",
       "      <th>송파구</th>\n",
       "      <td>2854</td>\n",
       "      <td>2595</td>\n",
       "      <td>11</td>\n",
       "      <td>3509</td>\n",
       "      <td>594</td>\n",
       "      <td>2573</td>\n",
       "    </tr>\n",
       "    <tr>\n",
       "      <th>강동구</th>\n",
       "      <td>2547</td>\n",
       "      <td>1268</td>\n",
       "      <td>7</td>\n",
       "      <td>1600</td>\n",
       "      <td>377</td>\n",
       "      <td>1124</td>\n",
       "    </tr>\n",
       "  </tbody>\n",
       "</table>\n",
       "</div>"
      ],
      "text/plain": [
       "      cctv총계  사건건수  사망자수  부상자수  중상자수  경상자수\n",
       "시군구                                       \n",
       "종로구     1772   903     5  1224   237   833\n",
       "중구      2333   955     6  1248   300   814\n",
       "용산구     2383   890    12  1178   246   900\n",
       "성동구     3602  1119     9  1481   322  1071\n",
       "광진구     2588   869     4  1145   230   857\n",
       "동대문구    2497  1448    10  1845   432  1280\n",
       "중랑구     3296  1447     4  1952   381  1345\n",
       "성북구     3958  1275     7  1622   323  1195\n",
       "강북구     2462  1087     3  1420   226  1124\n",
       "도봉구     1629   741     7   990   234   652\n",
       "노원구     2415  1462     5  2016   372  1488\n",
       "은평구     3791   953    14  1415   275  1007\n",
       "서대문구    2940   928     6  1256   222   810\n",
       "마포구     2421  1272    13  1754   301  1291\n",
       "양천구     3312  1344     7  1829   323  1386\n",
       "강서구     2560  1575    17  2131   448  1568\n",
       "구로구     4075  1325    10  1810   353  1357\n",
       "금천구     2374   810     6  1084   210   799\n",
       "영등포구    3778  2208     7  3102   484  2297\n",
       "동작구     2297  1307    10  1819   304  1313\n",
       "관악구     4942  1444    13  1819   391  1376\n",
       "서초구     3704  2250     9  3075   441  2397\n",
       "강남구     6502  3752    17  5189   771  4004\n",
       "송파구     2854  2595    11  3509   594  2573\n",
       "강동구     2547  1268     7  1600   377  1124"
      ]
     },
     "metadata": {},
     "execution_count": 104
    }
   ],
   "metadata": {}
  },
  {
   "cell_type": "code",
   "execution_count": 109,
   "source": [
    "np.corrcoef(df.cctv총계, df.사건건수)"
   ],
   "outputs": [
    {
     "output_type": "execute_result",
     "data": {
      "text/plain": [
       "array([[1.        , 0.67745034],\n",
       "       [0.67745034, 1.        ]])"
      ]
     },
     "metadata": {},
     "execution_count": 109
    }
   ],
   "metadata": {}
  },
  {
   "cell_type": "code",
   "execution_count": 110,
   "source": [
    "np.corrcoef(df.cctv총계, df.사망자수)"
   ],
   "outputs": [
    {
     "output_type": "execute_result",
     "data": {
      "text/plain": [
       "array([[1.        , 0.47045747],\n",
       "       [0.47045747, 1.        ]])"
      ]
     },
     "metadata": {},
     "execution_count": 110
    }
   ],
   "metadata": {}
  },
  {
   "cell_type": "code",
   "execution_count": 111,
   "source": [
    "np.corrcoef(df.cctv총계, df.부상자수)"
   ],
   "outputs": [
    {
     "output_type": "execute_result",
     "data": {
      "text/plain": [
       "array([[1.        , 0.67357289],\n",
       "       [0.67357289, 1.        ]])"
      ]
     },
     "metadata": {},
     "execution_count": 111
    }
   ],
   "metadata": {}
  },
  {
   "cell_type": "code",
   "execution_count": 112,
   "source": [
    "np.corrcoef(df.cctv총계, df.중상자수)"
   ],
   "outputs": [
    {
     "output_type": "execute_result",
     "data": {
      "text/plain": [
       "array([[1.        , 0.64981432],\n",
       "       [0.64981432, 1.        ]])"
      ]
     },
     "metadata": {},
     "execution_count": 112
    }
   ],
   "metadata": {}
  },
  {
   "cell_type": "code",
   "execution_count": 113,
   "source": [
    "np.corrcoef(df.cctv총계, df.경상자수)"
   ],
   "outputs": [
    {
     "output_type": "execute_result",
     "data": {
      "text/plain": [
       "array([[1.        , 0.68937569],\n",
       "       [0.68937569, 1.        ]])"
      ]
     },
     "metadata": {},
     "execution_count": 113
    }
   ],
   "metadata": {}
  },
  {
   "cell_type": "code",
   "execution_count": 118,
   "source": [
    "import seaborn as sns\r\n",
    "import matplotlib as mpl\r\n",
    "import matplotlib.pyplot as plt\r\n",
    "mpl.rcParams['axes.unicode_minus'] = False\r\n",
    "plt.rc('font', family='Malgun Gothic')"
   ],
   "outputs": [],
   "metadata": {}
  },
  {
   "cell_type": "code",
   "execution_count": 121,
   "source": [
    "fig, axs = plt.subplots(figsize=(15,10), ncols=3, nrows=2)\r\n",
    "features = ['사건건수', '사망자수', '부상자수', '중상자수', '경상자수']\r\n",
    "for i, feature in enumerate(features):\r\n",
    "    row, col = i//3, i%3\r\n",
    "    sns.regplot(x=feature, y='cctv총계', data=df, ax=axs[row][col]) #산점도와 추세선을 합친거다"
   ],
   "outputs": [
    {
     "output_type": "display_data",
     "data": {
      "image/png": "[encoded data removed]",
      "text/plain": [
       "<Figure size 1080x720 with 6 Axes>"
      ]
     },
     "metadata": {
      "needs_background": "light"
     }
    }
   ],
   "metadata": {}
  },
  {
   "cell_type": "markdown",
   "source": [
    "- 사고가 많이 나는곳 cctv 대수가 많다\r\n",
    "- 년도별로 사고를 조사해서 증가량을 분석 나중에 해보자"
   ],
   "metadata": {}
  },
  {
   "cell_type": "code",
   "execution_count": 122,
   "source": [
    "df.cctv총계.sort_values().plot(kind='barh', grid=True, figsize=(12,8), title='구별cctv수')"
   ],
   "outputs": [
    {
     "output_type": "execute_result",
     "data": {
      "text/plain": [
       "<AxesSubplot:title={'center':'구별'}, ylabel='시군구'>"
      ]
     },
     "metadata": {},
     "execution_count": 122
    },
    {
     "output_type": "display_data",
     "data": {
      "image/png": "[encoded data removed]",
      "text/plain": [
       "<Figure size 864x576 with 1 Axes>"
      ]
     },
     "metadata": {
      "needs_background": "light"
     }
    }
   ],
   "metadata": {}
  },
  {
   "cell_type": "code",
   "execution_count": 134,
   "source": [
    "df.sort_values(by='cctv총계').plot.barh(y=['cctv총계', '사건건수'], figsize=(10,8), grid=True, title='구별 cctv대비 사건수')"
   ],
   "outputs": [
    {
     "output_type": "execute_result",
     "data": {
      "text/plain": [
       "<AxesSubplot:title={'center':'구별 cctv대비 사건수'}, ylabel='시군구'>"
      ]
     },
     "metadata": {},
     "execution_count": 134
    },
    {
     "output_type": "display_data",
     "data": {
      "image/png": "[encoded data removed]",
      "text/plain": [
       "<Figure size 720x576 with 1 Axes>"
      ]
     },
     "metadata": {
      "needs_background": "light"
     }
    }
   ],
   "metadata": {}
  },
  {
   "cell_type": "code",
   "execution_count": 130,
   "source": [
    "df.cctv총계.sort_values().plot(kind='barh', grid=True, figsize=(12,8), title='구별cctv수')"
   ],
   "outputs": [
    {
     "output_type": "execute_result",
     "data": {
      "text/plain": [
       "<AxesSubplot:title={'center':'구별cctv수'}, ylabel='시군구'>"
      ]
     },
     "metadata": {},
     "execution_count": 130
    },
    {
     "output_type": "display_data",
     "data": {
      "image/png": "[encoded data removed]",
      "text/plain": [
       "<Figure size 864x576 with 1 Axes>"
      ]
     },
     "metadata": {
      "needs_background": "light"
     }
    }
   ],
   "metadata": {}
  },
  {
   "cell_type": "code",
   "execution_count": null,
   "source": [],
   "outputs": [],
   "metadata": {}
  }
 ],
 "metadata": {
  "orig_nbformat": 4,
  "language_info": {
   "name": "python",
   "version": "3.8.10",
   "mimetype": "text/x-python",
   "codemirror_mode": {
    "name": "ipython",
    "version": 3
   },
   "pygments_lexer": "ipython3",
   "nbconvert_exporter": "python",
   "file_extension": ".py"
  },
  "kernelspec": {
   "name": "python3",
   "display_name": "Python 3.8.10 64-bit"
  },
  "interpreter": {
   "hash": "345fc451c7e0336b9390ad1fad588039702f89ec6d37597eff879e480e25ffdb"
  }
 },
 "nbformat": 4,
 "nbformat_minor": 2
}