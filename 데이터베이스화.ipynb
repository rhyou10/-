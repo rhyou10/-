{
 "cells": [
  {
   "cell_type": "code",
   "execution_count": 150,
   "source": [
    "import pandas as pd"
   ],
   "outputs": [],
   "metadata": {}
  },
  {
   "cell_type": "code",
   "execution_count": 151,
   "source": [
    "df = pd.read_csv('data/coin.csv')"
   ],
   "outputs": [],
   "metadata": {}
  },
  {
   "cell_type": "code",
   "execution_count": 152,
   "source": [
    "df.head(2)\r\n",
    "df.set_index('번호',inplace=True)"
   ],
   "outputs": [],
   "metadata": {}
  },
  {
   "cell_type": "code",
   "execution_count": 153,
   "source": [
    "df.sort_index(inplace=True)"
   ],
   "outputs": [],
   "metadata": {}
  },
  {
   "cell_type": "code",
   "execution_count": 154,
   "source": [
    "df.head(2)"
   ],
   "outputs": [
    {
     "output_type": "execute_result",
     "data": {
      "text/plain": [
       "      게시판                              제목       닉네임         등록일   조회수  추천  반대\n",
       "번호                                                                           \n",
       "1   자유게시판                     비캐똥 예상 시나리오  롤렉스데이데이트  2021.08.22  3098   0   0\n",
       "2   자유게시판  씨발 연봉2080만원으로 고급승용차 뽑았다가 진짜...       우지한  2021.08.22  3545   3   1"
      ],
      "text/html": [
       "<div>\n",
       "<style scoped>\n",
       "    .dataframe tbody tr th:only-of-type {\n",
       "        vertical-align: middle;\n",
       "    }\n",
       "\n",
       "    .dataframe tbody tr th {\n",
       "        vertical-align: top;\n",
       "    }\n",
       "\n",
       "    .dataframe thead th {\n",
       "        text-align: right;\n",
       "    }\n",
       "</style>\n",
       "<table border=\"1\" class=\"dataframe\">\n",
       "  <thead>\n",
       "    <tr style=\"text-align: right;\">\n",
       "      <th></th>\n",
       "      <th>게시판</th>\n",
       "      <th>제목</th>\n",
       "      <th>닉네임</th>\n",
       "      <th>등록일</th>\n",
       "      <th>조회수</th>\n",
       "      <th>추천</th>\n",
       "      <th>반대</th>\n",
       "    </tr>\n",
       "    <tr>\n",
       "      <th>번호</th>\n",
       "      <th></th>\n",
       "      <th></th>\n",
       "      <th></th>\n",
       "      <th></th>\n",
       "      <th></th>\n",
       "      <th></th>\n",
       "      <th></th>\n",
       "    </tr>\n",
       "  </thead>\n",
       "  <tbody>\n",
       "    <tr>\n",
       "      <th>1</th>\n",
       "      <td>자유게시판</td>\n",
       "      <td>비캐똥 예상 시나리오</td>\n",
       "      <td>롤렉스데이데이트</td>\n",
       "      <td>2021.08.22</td>\n",
       "      <td>3098</td>\n",
       "      <td>0</td>\n",
       "      <td>0</td>\n",
       "    </tr>\n",
       "    <tr>\n",
       "      <th>2</th>\n",
       "      <td>자유게시판</td>\n",
       "      <td>씨발 연봉2080만원으로 고급승용차 뽑았다가 진짜...</td>\n",
       "      <td>우지한</td>\n",
       "      <td>2021.08.22</td>\n",
       "      <td>3545</td>\n",
       "      <td>3</td>\n",
       "      <td>1</td>\n",
       "    </tr>\n",
       "  </tbody>\n",
       "</table>\n",
       "</div>"
      ]
     },
     "metadata": {},
     "execution_count": 154
    }
   ],
   "metadata": {}
  },
  {
   "cell_type": "code",
   "execution_count": 155,
   "source": [
    "import datetime\r\n",
    "datetime.datetime.now().strftime('%Y.%m.%d')"
   ],
   "outputs": [
    {
     "output_type": "execute_result",
     "data": {
      "text/plain": [
       "'2021.08.30'"
      ]
     },
     "metadata": {},
     "execution_count": 155
    }
   ],
   "metadata": {}
  },
  {
   "cell_type": "code",
   "execution_count": 156,
   "source": [
    "df['등록시간'] = [df.등록일[i+1] if len(df.등록일[i+1])<6 else 0 for i in range(len(df.등록일))]\r\n",
    "df.등록일 =  ['2021.08.29' if len(df.등록일[i+1])<6 else df.등록일[i+1] for i in range(len(df.등록일))]"
   ],
   "outputs": [],
   "metadata": {}
  },
  {
   "cell_type": "code",
   "execution_count": 157,
   "source": [
    "df = df[['게시판', '제목', '닉네임', '등록일', '등록시간', '조회수', '추천', '반대']]"
   ],
   "outputs": [],
   "metadata": {}
  },
  {
   "cell_type": "code",
   "execution_count": 158,
   "source": [
    "import json\r\n",
    "import pymysql"
   ],
   "outputs": [],
   "metadata": {}
  },
  {
   "cell_type": "code",
   "execution_count": 159,
   "source": [
    "with open('data/mysql.json', 'r') as file: \r\n",
    "    config_str = file.read() \r\n",
    "    config = json.loads(config_str)"
   ],
   "outputs": [],
   "metadata": {}
  },
  {
   "cell_type": "code",
   "execution_count": 160,
   "source": [
    "sql = \"DROP TABLES coinlist;\"\r\n",
    "conn = pymysql.connect(**config)\r\n",
    "cur = conn.cursor()\r\n",
    "cur.execute(sql)"
   ],
   "outputs": [
    {
     "output_type": "execute_result",
     "data": {
      "text/plain": [
       "0"
      ]
     },
     "metadata": {},
     "execution_count": 160
    }
   ],
   "metadata": {}
  },
  {
   "cell_type": "code",
   "execution_count": 161,
   "source": [
    "sql = \"\"\"\r\n",
    "    CREATE TABLE if NOT EXISTS coinlist(\r\n",
    "    NO INT NOT NULL PRIMARY KEY AUTO_INCREMENT,\r\n",
    "    notice_board varCHAR(15),\r\n",
    "    title varCHAR(60),\r\n",
    "    author varCHAR(25),\r\n",
    "    cdate DATE,\r\n",
    "    ctime time(4),\r\n",
    "    readed INT,\r\n",
    "    rec INT,\r\n",
    "    opp INT  \r\n",
    "    )AUTO_INCREMENT=1;\r\n",
    "\"\"\""
   ],
   "outputs": [],
   "metadata": {}
  },
  {
   "cell_type": "code",
   "execution_count": 162,
   "source": [
    "conn = pymysql.connect(**config)\r\n",
    "cur = conn.cursor()\r\n",
    "cur.execute(sql)"
   ],
   "outputs": [
    {
     "output_type": "execute_result",
     "data": {
      "text/plain": [
       "0"
      ]
     },
     "metadata": {},
     "execution_count": 162
    }
   ],
   "metadata": {}
  },
  {
   "cell_type": "code",
   "execution_count": 163,
   "source": [
    "sql =\"INSERT INTO coinlist VALUES(%s, %s, %s, %s, %s, %s, %s, %s, %s)\"\r\n",
    "cur = conn.cursor()\r\n",
    "for i in range(len(df)):\r\n",
    "    try:\r\n",
    "        a=[]\r\n",
    "        a.append(df.index[i])\r\n",
    "        a.extend(df.T[i+1])\r\n",
    "        cur.execute(sql,a)\r\n",
    "    except:\r\n",
    "        print(i)\r\n",
    "conn.commit()\r\n",
    "#중간에 ctime 양식이 바뀐다\r\n"
   ],
   "outputs": [],
   "metadata": {}
  },
  {
   "cell_type": "code",
   "execution_count": 164,
   "source": [
    "conn.close()\r\n",
    "cur.close()"
   ],
   "outputs": [],
   "metadata": {}
  }
 ],
 "metadata": {
  "orig_nbformat": 4,
  "language_info": {
   "name": "python",
   "version": "3.8.10",
   "mimetype": "text/x-python",
   "codemirror_mode": {
    "name": "ipython",
    "version": 3
   },
   "pygments_lexer": "ipython3",
   "nbconvert_exporter": "python",
   "file_extension": ".py"
  },
  "kernelspec": {
   "name": "python3",
   "display_name": "Python 3.8.10 64-bit ('base': conda)"
  },
  "interpreter": {
   "hash": "345fc451c7e0336b9390ad1fad588039702f89ec6d37597eff879e480e25ffdb"
  }
 },
 "nbformat": 4,
 "nbformat_minor": 2
}